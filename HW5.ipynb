{
 "cells": [
  {
   "cell_type": "code",
   "execution_count": 5,
   "metadata": {},
   "outputs": [
    {
     "name": "stdout",
     "output_type": "stream",
     "text": [
      "please input +-*//\n",
      "1.5\n"
     ]
    }
   ],
   "source": [
    "def add_args(x,y):\n",
    "    print(x+y)\n",
    "\n",
    "def subtract_args(x,y):\n",
    "    print(x-y)\n",
    "\n",
    "def multi_args(x,y):\n",
    "    print(x*y)\n",
    "    \n",
    "def divide_args(x,y):\n",
    "    print(x/y)\n",
    "\n",
    "x = 12\n",
    "y = 8\n",
    "i = input(\"please input +-*/\")\n",
    "if i == '+':\n",
    "    add_args(x,y)\n",
    "elif i == '-':\n",
    "    subtract_(x,y)\n",
    "elif i == '*':\n",
    "    multi_args(x,y)\n",
    "elif i == '/':\n",
    "    divide_args(x,y)\n",
    "    \n",
    "    \n"
   ]
  },
  {
   "cell_type": "code",
   "execution_count": null,
   "metadata": {},
   "outputs": [],
   "source": []
  },
  {
   "cell_type": "code",
   "execution_count": null,
   "metadata": {},
   "outputs": [],
   "source": []
  }
 ],
 "metadata": {
  "kernelspec": {
   "display_name": "Python 3",
   "language": "python",
   "name": "python3"
  },
  "language_info": {
   "codemirror_mode": {
    "name": "ipython",
    "version": 3
   },
   "file_extension": ".py",
   "mimetype": "text/x-python",
   "name": "python",
   "nbconvert_exporter": "python",
   "pygments_lexer": "ipython3",
   "version": "3.7.3"
  }
 },
 "nbformat": 4,
 "nbformat_minor": 2
}
